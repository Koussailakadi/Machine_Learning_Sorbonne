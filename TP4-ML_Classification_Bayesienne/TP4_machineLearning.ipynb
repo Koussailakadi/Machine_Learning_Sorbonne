{
  "nbformat": 4,
  "nbformat_minor": 0,
  "metadata": {
    "colab": {
      "name": "TP4_machineLearning.ipynb",
      "provenance": [],
      "collapsed_sections": []
    },
    "kernelspec": {
      "name": "python3",
      "display_name": "Python 3"
    }
  },
  "cells": [
    {
      "cell_type": "code",
      "metadata": {
        "colab": {
          "base_uri": "https://localhost:8080/",
          "height": 498
        },
        "id": "Lg7LbiTKeoRQ",
        "outputId": "18b8de14-9158-4de7-802a-04cd8e5bf601"
      },
      "source": [
        "import numpy as np \n",
        "import matplotlib.pyplot as plt\n",
        "from sklearn.metrics import confusion_matrix\n",
        "import math\n",
        "\n",
        "[X_train, y_train, X_test, y_test] = np.load(\"TP4.npy\",allow_pickle=True)\n",
        "#Pixel peau\n",
        "T_train = X_train[np.where(y_train==1),:]\n",
        "T_train = np.reshape(T_train,(T_train.shape[1],T_train.shape[2] ))\n",
        "#Pixel non peau\n",
        "F_train = X_train[np.where(y_train==0),:]\n",
        "F_train = np.reshape(F_train,(F_train.shape[1],F_train.shape[2] ))\n",
        "plt.plot(F_train[:,0], F_train[:,1], '.b')\n",
        "plt.plot(T_train[:,0], T_train[:,1], '.r')\n",
        "plt.show()\n",
        "\n",
        "\n",
        "def norm2(x, m, cov): # renvoie la proba qu'un point appartienne a la gaussienne \n",
        "  a = np.dot(np.transpose((x-m)), np.linalg.inv(cov))\n",
        "  a = np.dot(a, (x-m))\n",
        "  p =1/(math.sqrt(2*math.pi*np.linalg.det(cov)))*math.exp(-0.5*a)\n",
        "  return p\n",
        "# PARTIE II \n",
        "def ddp_parzen(x,X,cov):\n",
        "  sommation=0\n",
        "  N=X.shape[0]\n",
        "  for i in range(0,N):\n",
        "    sommation+=norm2(x,X[i,:],cov)\n",
        "  return sommation/N\n",
        "\n",
        "#sigma trop faible on représente trop mal les densité on se rapproche des cas discret\n",
        "#sigma trop grand sa bave\n",
        "#sigma proche de 1 ou 2 proche des valeurs correctes\n",
        "\n",
        "sigma = 1\n",
        "cov = (sigma**2)*np.eye(2)\n",
        "\n",
        "\n",
        "p_chair    =np.zeros([20,20])\n",
        "p_non_chair  =np.zeros([20,20])\n",
        "\n",
        "for x in range(0,20):\n",
        "    for y in range(0,20):\n",
        "        p_chair[y,x]   =ddp_parzen(np.array([x,y]),T_train,cov)\n",
        "        A=10\n",
        "        p_non_chair[y,x] =ddp_parzen(np.array([x,y]),F_train,cov)\n",
        "\n",
        "plt.subplot(1,2,1)\n",
        "plt.imshow(np.flipud(p_chair))#inverse le graphe pour correspondre\n",
        "#plt.imshow(p_chair)\n",
        "plt.subplot(1,2,2)\n",
        "plt.imshow(np.flipud(p_non_chair)) # '' '' \n",
        "#plt.imshow(p_non_chair)\n",
        "\n",
        "#PARTIE III\n"
      ],
      "execution_count": null,
      "outputs": [
        {
          "output_type": "display_data",
          "data": {
            "image/png": "[encoded data removed]",
            "text/plain": [
              "<Figure size 432x288 with 1 Axes>"
            ]
          },
          "metadata": {
            "tags": [],
            "needs_background": "light"
          }
        },
        {
          "output_type": "stream",
          "text": [
            "[[ 7  1]\n",
            " [ 0 22]]\n",
            "0.9666666666666667\n"
          ],
          "name": "stdout"
        },
        {
          "output_type": "display_data",
          "data": {
            "image/png": "[encoded data removed]",
            "text/plain": [
              "<Figure size 432x288 with 2 Axes>"
            ]
          },
          "metadata": {
            "tags": [],
            "needs_background": "light"
          }
        }
      ]
    },
    {
      "cell_type": "code",
      "metadata": {
        "colab": {
          "base_uri": "https://localhost:8080/"
        },
        "id": "COPxPFuI2zeg",
        "outputId": "18f2e57a-56e5-4153-edd1-b89c0ff45cb6"
      },
      "source": [
        "#sigma = 1\n",
        "sigma_list=np.linspace(start=0.5,stop=10,num=20)\n",
        "cov=(sigma**2)*np.eye(2)\n",
        "\n",
        "y_predict=np.zeros(X_test.shape[0])\n",
        "for i in range(0,X_test.shape[0]):\n",
        "  p_chair2= ddp_parzen(X_test[i,:],T_train,cov)#vraissemblance  p(x|y=chair)\n",
        "  p_non_chair2=  ddp_parzen(X_test[i,:],F_train,cov)#vraissemblance p(x|y=non_chair)\n",
        "  p_chair_posterior= p_chair2 * T_train.shape[0]\n",
        "  p_non_chair_posterior = p_non_chair2*F_train.shape[0]\n",
        "  if p_chair_posterior>p_non_chair_posterior:\n",
        "    y_predict[i]=1   # pas besoin de faire de else car predict =0 de base\n",
        "\n",
        "conf_matrix=confusion_matrix(y_test,y_predict)\n",
        "print(conf_matrix)\n",
        "accuracy=np.sum(np.diag(conf_matrix))/np.sum(conf_matrix)\n",
        "\n",
        "print(conf_matrix)\n",
        "print(accuracy)"
      ],
      "execution_count": null,
      "outputs": [
        {
          "output_type": "stream",
          "text": [
            "[[ 0  8]\n",
            " [ 0 22]]\n"
          ],
          "name": "stdout"
        }
      ]
    },
    {
      "cell_type": "code",
      "metadata": {
        "colab": {
          "base_uri": "https://localhost:8080/",
          "height": 1000
        },
        "id": "zM04MNl33go8",
        "outputId": "7996b9a4-e397-43bc-d102-3c3fd249e91e"
      },
      "source": [
        "#sigma = 1\n",
        "#cov=(sigma**2)*np.eye(2\n",
        "\n",
        "sigma_list=np.linspace(start=0.5,stop=10,num=20)\n",
        "idx=0\n",
        "accuracy=np.zeros(sigma_list.shape[0])\n",
        "for sigma in sigma_list:\n",
        "  cov=(sigma**2)*np.eye(2)\n",
        "\n",
        "\n",
        "  y_predict=np.zeros(X_test.shape[0])\n",
        "  for i in range(0,X_test.shape[0]):\n",
        "    p_chair2= ddp_parzen(X_test[i,:],T_train,cov)#vraissemblance  p(x|y=chair)\n",
        "    p_non_chair2= ddp_parzen(X_test[i,:],F_train,cov)#vraissemblance p(x|y=non_chair)\n",
        "    p_chair_posterior= p_chair2 * T_train.shape[0]\n",
        "    p_non_chair_posterior = p_non_chair2*F_train.shape[0]\n",
        "\n",
        "    if p_chair_posterior>p_non_chair_posterior:\n",
        "      y_predict[i]=1   # pas besoin de faire de else car predict =0 de base\n",
        "\n",
        "  conf_matrix=confusion_matrix(y_test,y_predict)\n",
        "  print(conf_matrix)\n",
        "  accuracy[idx]=np.sum(np.diag(conf_matrix))/np.sum(conf_matrix)\n",
        "  idx+=1\n",
        "  \n",
        "#print(accuracy)\n",
        "plt.plot(sigma_list,accuracy)\n",
        "plt.show()\n",
        "\n",
        "\n",
        "# comprendre l'estimation de densité par noyau et le passage avec la loi de bAyes\n",
        "# et la classification \n",
        "\n",
        "#on chute a partir de 3 avec un taux de classification de 75%"
      ],
      "execution_count": null,
      "outputs": [
        {
          "output_type": "stream",
          "text": [
            "[[ 7  1]\n",
            " [ 1 21]]\n",
            "[[ 7  1]\n",
            " [ 0 22]]\n",
            "[[ 6  2]\n",
            " [ 0 22]]\n",
            "[[ 6  2]\n",
            " [ 0 22]]\n",
            "[[ 6  2]\n",
            " [ 0 22]]\n",
            "[[ 5  3]\n",
            " [ 0 22]]\n",
            "[[ 3  5]\n",
            " [ 0 22]]\n",
            "[[ 2  6]\n",
            " [ 0 22]]\n",
            "[[ 0  8]\n",
            " [ 0 22]]\n",
            "[[ 0  8]\n",
            " [ 0 22]]\n",
            "[[ 0  8]\n",
            " [ 0 22]]\n",
            "[[ 0  8]\n",
            " [ 0 22]]\n",
            "[[ 0  8]\n",
            " [ 0 22]]\n",
            "[[ 0  8]\n",
            " [ 0 22]]\n",
            "[[ 0  8]\n",
            " [ 0 22]]\n",
            "[[ 0  8]\n",
            " [ 0 22]]\n",
            "[[ 0  8]\n",
            " [ 0 22]]\n",
            "[[ 0  8]\n",
            " [ 0 22]]\n",
            "[[ 0  8]\n",
            " [ 0 22]]\n",
            "[[ 0  8]\n",
            " [ 0 22]]\n",
            "[0.93333333 0.96666667 0.93333333 0.93333333 0.93333333 0.9\n",
            " 0.83333333 0.8        0.73333333 0.73333333 0.73333333 0.73333333\n",
            " 0.73333333 0.73333333 0.73333333 0.73333333 0.73333333 0.73333333\n",
            " 0.73333333 0.73333333]\n"
          ],
          "name": "stdout"
        },
        {
          "output_type": "display_data",
          "data": {
            "image/png": "[encoded data removed]",
            "text/plain": [
              "<Figure size 432x288 with 1 Axes>"
            ]
          },
          "metadata": {
            "tags": [],
            "needs_background": "light"
          }
        }
      ]
    },
    {
      "cell_type": "code",
      "metadata": {
        "colab": {
          "base_uri": "https://localhost:8080/",
          "height": 382
        },
        "id": "-zEJ6z575UcU",
        "outputId": "80104bb1-a2f3-4c0e-bc74-acdc64bc5012"
      },
      "source": [
        "#sigma = 1\n",
        "#cov=(sigma**2)*np.eye(2\n",
        "\n",
        "sigma_list=np.linspace(start=0.5,stop=10,num=20)\n",
        "idx=0\n",
        "accuracy=np.zeros(sigma_list.shape[0])\n",
        "seuil=0.4  # on rajoute seuil \n",
        "for sigma in sigma_list:\n",
        "  cov=(sigma**2)*np.eye(2)\n",
        "\n",
        "\n",
        "  y_predict=np.zeros(X_test.shape[0])\n",
        "  for i in range(0,X_test.shape[0]):\n",
        "    p_chair2= ddp_parzen(X_test[i,:],T_train,cov)#vraissemblance  p(x|y=chair)\n",
        "    p_non_chair2= ddp_parzen(X_test[i,:],F_train,cov)#vraissemblance p(x|y=non_chair)\n",
        "    p_chair_posterior= p_chair2 * T_train.shape[0]\n",
        "    p_non_chair_posterior = p_non_chair2*F_train.shape[0]\n",
        "    if p_chair_posterior<seuil and p_non_chair_posterior<seuil:\n",
        "      y_predict[i]=2\n",
        "    else:\n",
        "\n",
        "      if p_chair_posterior>p_non_chair_posterior:\n",
        "        y_predict[i]=1   # pas besoin de faire de else car predict =0 de base\n",
        "\n",
        "  conf_matrix=confusion_matrix(y_test,y_predict)\n",
        "  accuracy[idx]=np.sum(np.diag(conf_matrix))/np.sum(conf_matrix)\n",
        "  idx+=1\n",
        "\n",
        "print(conf_matrix)\n",
        "#print(accuracy)\n",
        "plt.plot(sigma_list,accuracy)\n",
        "plt.show()\n",
        "\n",
        "\n",
        "# comprendre l'estimation de densité par noyau et le passage avec la loi de bAyes\n",
        "# et la classification \n",
        "\n",
        "#on chute a partir de 3 avec un taux de classification de 75%"
      ],
      "execution_count": null,
      "outputs": [
        {
          "output_type": "stream",
          "text": [
            "[[ 0  0  8]\n",
            " [ 0  0 22]\n",
            " [ 0  0  0]]\n",
            "[0.73333333 0.9        0.9        0.9        0.93333333 0.86666667\n",
            " 0.8        0.73333333 0.7        0.6        0.53333333 0.4\n",
            " 0.36666667 0.3        0.         0.         0.         0.\n",
            " 0.         0.        ]\n"
          ],
          "name": "stdout"
        },
        {
          "output_type": "display_data",
          "data": {
            "image/png": "[encoded data removed]",
            "text/plain": [
              "<Figure size 432x288 with 1 Axes>"
            ]
          },
          "metadata": {
            "tags": [],
            "needs_background": "light"
          }
        }
      ]
    }
  ]
}